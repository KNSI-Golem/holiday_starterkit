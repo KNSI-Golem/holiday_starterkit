{
 "cells": [
  {
   "cell_type": "code",
   "execution_count": 1,
   "id": "92599c16",
   "metadata": {},
   "outputs": [],
   "source": [
    "import pandas as pd\n",
    "import numpy as np"
   ]
  },
  {
   "cell_type": "markdown",
   "id": "04d531c4",
   "metadata": {},
   "source": [
    "<h2>Wczytywanie i obrabianie danych</h2>"
   ]
  },
  {
   "cell_type": "code",
   "execution_count": 2,
   "id": "ca414069",
   "metadata": {},
   "outputs": [],
   "source": [
    "df = pd.read_csv('train.csv', index_col=0)"
   ]
  },
  {
   "cell_type": "code",
   "execution_count": 3,
   "id": "430220a1",
   "metadata": {},
   "outputs": [],
   "source": [
    "# czyscimy dane zeby latwiej je bylo zencodowac\n",
    "cols_to_encode = ['game_type', 'category', 'mechanic']\n",
    "for col in cols_to_encode:\n",
    "    df[col] = df[col].fillna('')"
   ]
  },
  {
   "cell_type": "code",
   "execution_count": 4,
   "id": "b1309840",
   "metadata": {},
   "outputs": [],
   "source": [
    "# robimy mapping, ktory pomoze przy encodowaniu\n",
    "mapping = {}\n",
    "cnt = 0\n",
    "for col in cols_to_encode:\n",
    "    vals = df[col].str.cat(sep='|').split('|')\n",
    "    unique_vals = np.unique(vals) \n",
    "    for val in unique_vals:\n",
    "        if val != '':\n",
    "            mapping[col + '_' + val] = cnt\n",
    "            cnt += 1"
   ]
  },
  {
   "cell_type": "code",
   "execution_count": 5,
   "id": "ac8c29dd",
   "metadata": {},
   "outputs": [],
   "source": [
    "def make_encodings(df, mapping, cols_to_encode, cols_as_is):\n",
    "    encoding_len = len(mapping)\n",
    "    X = np.zeros((len(df), encoding_len))\n",
    "    \n",
    "    for i, row in df.iterrows():\n",
    "        for col in cols_to_encode:\n",
    "            for cat in row[col].split('|'):\n",
    "                if cat != '':\n",
    "                    X[i, mapping[col + '_' + cat]] = 1\n",
    "        \n",
    "    X = np.concatenate((X, df[cols_as_is].fillna(-1)), axis=1) # uznajemy ze brak wartosci to tez informacja i ja kodujemy za pomoca liczby -1\n",
    "    return X"
   ]
  },
  {
   "cell_type": "code",
   "execution_count": 6,
   "id": "05d3097a",
   "metadata": {},
   "outputs": [],
   "source": [
    "# encodujemy kolumny z kategoriami\n",
    "cols_as_is = ['year', 'min_players', 'max_players', 'min_age', 'min_age_rec',\n",
    "              'min_time', 'max_time']\n",
    "\n",
    "y = df['num_sold'].to_numpy()\n",
    "df = df.drop(columns=['num_sold', 'name'])\n",
    "X = make_encodings(df, mapping, cols_to_encode, cols_as_is)"
   ]
  },
  {
   "cell_type": "code",
   "execution_count": 7,
   "id": "5d1938b2",
   "metadata": {},
   "outputs": [],
   "source": [
    "# dzielimy nasz dataset na zbior treningowy i walidacyjny\n",
    "from sklearn.model_selection import train_test_split \n",
    "\n",
    "X_train, X_test, y_train, y_test = train_test_split(X, y, train_size=0.9, random_state=40)"
   ]
  },
  {
   "cell_type": "markdown",
   "id": "f9895fb4",
   "metadata": {},
   "source": [
    "<h2>Trenowanie modeli</h2>"
   ]
  },
  {
   "cell_type": "code",
   "execution_count": 8,
   "id": "2fe82672",
   "metadata": {},
   "outputs": [
    {
     "output_type": "stream",
     "name": "stdout",
     "text": [
      "Baseline MAE: 284.70762384448767\n"
     ]
    }
   ],
   "source": [
    "# nasz baseline, ktory bedziemy probowali przebic\n",
    "preds_baseline = np.full((len(y_test), ), y_train.mean())\n",
    "baseline_mae = np.abs(y_test - preds_baseline).mean()\n",
    "\n",
    "print('Baseline MAE:', baseline_mae)"
   ]
  },
  {
   "cell_type": "code",
   "execution_count": 9,
   "id": "90c234aa",
   "metadata": {},
   "outputs": [
    {
     "output_type": "stream",
     "name": "stdout",
     "text": [
      "KNN MAE: 156.63615635179153\n"
     ]
    }
   ],
   "source": [
    "# trenujemy i testujemy KNN\n",
    "from sklearn.neighbors import KNeighborsRegressor\n",
    "\n",
    "knn = KNeighborsRegressor()\n",
    "knn.fit(X_train, y_train)\n",
    "\n",
    "preds_knn = knn.predict(X_test)\n",
    "knn_mae = np.abs(y_test - preds_knn).mean()\n",
    "\n",
    "print('KNN MAE:', knn_mae)"
   ]
  },
  {
   "cell_type": "markdown",
   "id": "54a070c0",
   "metadata": {},
   "source": [
    "<h2>Zapis wyniku modelu</h2>"
   ]
  },
  {
   "cell_type": "code",
   "execution_count": 10,
   "id": "2d0927fb",
   "metadata": {},
   "outputs": [],
   "source": [
    "# wczytujemy i przetwarzamy nasze dane testowe tak samo jak robilismy to wczesniej z treningowymi\n",
    "df_test = pd.read_csv('test.csv', index_col=0)\n",
    "\n",
    "for col in cols_to_encode:\n",
    "    df_test[col] = df_test[col].fillna('')\n",
    "    \n",
    "X = make_encodings(df_test, mapping, cols_to_encode, cols_as_is)"
   ]
  },
  {
   "cell_type": "code",
   "execution_count": 11,
   "id": "b04fb0ae",
   "metadata": {},
   "outputs": [],
   "source": [
    "# przewidujemy wyniki za pomoca wczesniej wytrenowanego modelu\n",
    "preds = knn.predict(X)"
   ]
  },
  {
   "cell_type": "code",
   "execution_count": 12,
   "id": "c684c45d",
   "metadata": {},
   "outputs": [],
   "source": [
    "# zapisujemy wyniki do pliku, ktory potem wrzucimy na Kaggle'a\n",
    "submission = pd.DataFrame({'id': range(len(preds)), 'predicted': preds})\n",
    "submission.to_csv('sample_submission_2.csv', index=False)"
   ]
  },
  {
   "cell_type": "code",
   "execution_count": null,
   "id": "ef2d87d8",
   "metadata": {},
   "outputs": [],
   "source": []
  }
 ],
 "metadata": {
  "kernelspec": {
   "name": "python3",
   "display_name": "Python 3.8.6 64-bit"
  },
  "language_info": {
   "codemirror_mode": {
    "name": "ipython",
    "version": 3
   },
   "file_extension": ".py",
   "mimetype": "text/x-python",
   "name": "python",
   "nbconvert_exporter": "python",
   "pygments_lexer": "ipython3",
   "version": "3.8.6"
  },
  "interpreter": {
   "hash": "16c31d61a8705ef2338a430691145c2a45fcb062bc6cbb6a4bda3eb989e70e5a"
  }
 },
 "nbformat": 4,
 "nbformat_minor": 5
}